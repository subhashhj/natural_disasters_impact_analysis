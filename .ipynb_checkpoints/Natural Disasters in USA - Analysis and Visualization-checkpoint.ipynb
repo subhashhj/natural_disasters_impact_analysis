{
 "cells": [
  {
   "cell_type": "code",
   "execution_count": 1,
   "id": "01ce8aa6",
   "metadata": {},
   "outputs": [],
   "source": [
    "import pandas as pd\n",
    "\n",
    "df = pd.read_excel(\"public_emdat_natural_disaster_data_USA_2000_2024.xlsx\")"
   ]
  },
  {
   "cell_type": "code",
   "execution_count": 2,
   "id": "9c996fc1",
   "metadata": {
    "scrolled": true
   },
   "outputs": [
    {
     "name": "stdout",
     "output_type": "stream",
     "text": [
      "<class 'pandas.core.frame.DataFrame'>\n",
      "RangeIndex: 614 entries, 0 to 613\n",
      "Data columns (total 46 columns):\n",
      " #   Column                                     Non-Null Count  Dtype  \n",
      "---  ------                                     --------------  -----  \n",
      " 0   DisNo.                                     614 non-null    object \n",
      " 1   Historic                                   614 non-null    object \n",
      " 2   Classification Key                         614 non-null    object \n",
      " 3   Disaster Group                             614 non-null    object \n",
      " 4   Disaster Subgroup                          614 non-null    object \n",
      " 5   Disaster Type                              614 non-null    object \n",
      " 6   Disaster Subtype                           614 non-null    object \n",
      " 7   External IDs                               30 non-null     object \n",
      " 8   Event Name                                 104 non-null    object \n",
      " 9   ISO                                        614 non-null    object \n",
      " 10  Country                                    614 non-null    object \n",
      " 11  Subregion                                  614 non-null    object \n",
      " 12  Region                                     614 non-null    object \n",
      " 13  Location                                   613 non-null    object \n",
      " 14  Origin                                     135 non-null    object \n",
      " 15  Associated Types                           295 non-null    object \n",
      " 16  OFDA/BHA Response                          614 non-null    object \n",
      " 17  Appeal                                     614 non-null    object \n",
      " 18  Declaration                                614 non-null    object \n",
      " 19  AID Contribution ('000 US$)                0 non-null      float64\n",
      " 20  Magnitude                                  204 non-null    float64\n",
      " 21  Magnitude Scale                            610 non-null    object \n",
      " 22  Latitude                                   61 non-null     float64\n",
      " 23  Longitude                                  61 non-null     float64\n",
      " 24  River Basin                                48 non-null     object \n",
      " 25  Start Year                                 614 non-null    int64  \n",
      " 26  Start Month                                614 non-null    int64  \n",
      " 27  Start Day                                  581 non-null    float64\n",
      " 28  End Year                                   614 non-null    int64  \n",
      " 29  End Month                                  611 non-null    float64\n",
      " 30  End Day                                    583 non-null    float64\n",
      " 31  Total Deaths                               468 non-null    float64\n",
      " 32  No. Injured                                190 non-null    float64\n",
      " 33  No. Affected                               255 non-null    float64\n",
      " 34  No. Homeless                               97 non-null     float64\n",
      " 35  Total Affected                             385 non-null    float64\n",
      " 36  Reconstruction Costs ('000 US$)            0 non-null      float64\n",
      " 37  Reconstruction Costs, Adjusted ('000 US$)  0 non-null      float64\n",
      " 38  Insured Damage ('000 US$)                  248 non-null    float64\n",
      " 39  Insured Damage, Adjusted ('000 US$)        243 non-null    float64\n",
      " 40  Total Damage ('000 US$)                    467 non-null    float64\n",
      " 41  Total Damage, Adjusted ('000 US$)          450 non-null    float64\n",
      " 42  CPI                                        591 non-null    float64\n",
      " 43  Admin Units                                570 non-null    object \n",
      " 44  Entry Date                                 614 non-null    object \n",
      " 45  Last Update                                614 non-null    object \n",
      "dtypes: float64(19), int64(3), object(24)\n",
      "memory usage: 220.8+ KB\n"
     ]
    }
   ],
   "source": [
    "df.info()"
   ]
  },
  {
   "cell_type": "code",
   "execution_count": 3,
   "id": "3b66a785",
   "metadata": {
    "scrolled": true
   },
   "outputs": [
    {
     "data": {
      "text/html": [
       "<div>\n",
       "<style scoped>\n",
       "    .dataframe tbody tr th:only-of-type {\n",
       "        vertical-align: middle;\n",
       "    }\n",
       "\n",
       "    .dataframe tbody tr th {\n",
       "        vertical-align: top;\n",
       "    }\n",
       "\n",
       "    .dataframe thead th {\n",
       "        text-align: right;\n",
       "    }\n",
       "</style>\n",
       "<table border=\"1\" class=\"dataframe\">\n",
       "  <thead>\n",
       "    <tr style=\"text-align: right;\">\n",
       "      <th></th>\n",
       "      <th>DisNo.</th>\n",
       "      <th>Historic</th>\n",
       "      <th>Classification Key</th>\n",
       "      <th>Disaster Group</th>\n",
       "      <th>Disaster Subgroup</th>\n",
       "      <th>Disaster Type</th>\n",
       "      <th>Disaster Subtype</th>\n",
       "      <th>External IDs</th>\n",
       "      <th>Event Name</th>\n",
       "      <th>ISO</th>\n",
       "      <th>...</th>\n",
       "      <th>Reconstruction Costs ('000 US$)</th>\n",
       "      <th>Reconstruction Costs, Adjusted ('000 US$)</th>\n",
       "      <th>Insured Damage ('000 US$)</th>\n",
       "      <th>Insured Damage, Adjusted ('000 US$)</th>\n",
       "      <th>Total Damage ('000 US$)</th>\n",
       "      <th>Total Damage, Adjusted ('000 US$)</th>\n",
       "      <th>CPI</th>\n",
       "      <th>Admin Units</th>\n",
       "      <th>Entry Date</th>\n",
       "      <th>Last Update</th>\n",
       "    </tr>\n",
       "  </thead>\n",
       "  <tbody>\n",
       "    <tr>\n",
       "      <th>0</th>\n",
       "      <td>2000-0021-USA</td>\n",
       "      <td>No</td>\n",
       "      <td>nat-met-sto-tor</td>\n",
       "      <td>Natural</td>\n",
       "      <td>Meteorological</td>\n",
       "      <td>Storm</td>\n",
       "      <td>Tornado</td>\n",
       "      <td>NaN</td>\n",
       "      <td>NaN</td>\n",
       "      <td>USA</td>\n",
       "      <td>...</td>\n",
       "      <td>NaN</td>\n",
       "      <td>NaN</td>\n",
       "      <td>200500.0</td>\n",
       "      <td>354778.0</td>\n",
       "      <td>210000.0</td>\n",
       "      <td>371587.0</td>\n",
       "      <td>56.514291</td>\n",
       "      <td>[{\"adm2_code\":29698,\"adm2_name\":\"Crittenden\"},...</td>\n",
       "      <td>2003-07-01</td>\n",
       "      <td>2023-09-25</td>\n",
       "    </tr>\n",
       "    <tr>\n",
       "      <th>1</th>\n",
       "      <td>2000-0067-USA</td>\n",
       "      <td>No</td>\n",
       "      <td>nat-met-sto-tor</td>\n",
       "      <td>Natural</td>\n",
       "      <td>Meteorological</td>\n",
       "      <td>Storm</td>\n",
       "      <td>Tornado</td>\n",
       "      <td>NaN</td>\n",
       "      <td>NaN</td>\n",
       "      <td>USA</td>\n",
       "      <td>...</td>\n",
       "      <td>NaN</td>\n",
       "      <td>NaN</td>\n",
       "      <td>NaN</td>\n",
       "      <td>NaN</td>\n",
       "      <td>NaN</td>\n",
       "      <td>NaN</td>\n",
       "      <td>56.514291</td>\n",
       "      <td>[{\"adm2_code\":28696,\"adm2_name\":\"Bullock\"},{\"a...</td>\n",
       "      <td>2005-04-24</td>\n",
       "      <td>2023-09-25</td>\n",
       "    </tr>\n",
       "    <tr>\n",
       "      <th>2</th>\n",
       "      <td>2000-0080-USA</td>\n",
       "      <td>No</td>\n",
       "      <td>nat-hyd-flo-riv</td>\n",
       "      <td>Natural</td>\n",
       "      <td>Hydrological</td>\n",
       "      <td>Flood</td>\n",
       "      <td>Riverine flood</td>\n",
       "      <td>NaN</td>\n",
       "      <td>NaN</td>\n",
       "      <td>USA</td>\n",
       "      <td>...</td>\n",
       "      <td>NaN</td>\n",
       "      <td>NaN</td>\n",
       "      <td>NaN</td>\n",
       "      <td>NaN</td>\n",
       "      <td>NaN</td>\n",
       "      <td>NaN</td>\n",
       "      <td>56.514291</td>\n",
       "      <td>[{\"adm1_code\":3231,\"adm1_name\":\"Kentucky\"},{\"a...</td>\n",
       "      <td>2005-09-16</td>\n",
       "      <td>2023-09-25</td>\n",
       "    </tr>\n",
       "    <tr>\n",
       "      <th>3</th>\n",
       "      <td>2000-0128-USA</td>\n",
       "      <td>No</td>\n",
       "      <td>nat-cli-wil-for</td>\n",
       "      <td>Natural</td>\n",
       "      <td>Climatological</td>\n",
       "      <td>Wildfire</td>\n",
       "      <td>Forest fire</td>\n",
       "      <td>NaN</td>\n",
       "      <td>NaN</td>\n",
       "      <td>USA</td>\n",
       "      <td>...</td>\n",
       "      <td>NaN</td>\n",
       "      <td>NaN</td>\n",
       "      <td>NaN</td>\n",
       "      <td>NaN</td>\n",
       "      <td>NaN</td>\n",
       "      <td>NaN</td>\n",
       "      <td>56.514291</td>\n",
       "      <td>[{\"adm2_code\":28998,\"adm2_name\":\"Alachua\"},{\"a...</td>\n",
       "      <td>2003-07-01</td>\n",
       "      <td>2023-09-25</td>\n",
       "    </tr>\n",
       "    <tr>\n",
       "      <th>4</th>\n",
       "      <td>2000-0175-USA</td>\n",
       "      <td>No</td>\n",
       "      <td>nat-met-sto-tor</td>\n",
       "      <td>Natural</td>\n",
       "      <td>Meteorological</td>\n",
       "      <td>Storm</td>\n",
       "      <td>Tornado</td>\n",
       "      <td>NaN</td>\n",
       "      <td>NaN</td>\n",
       "      <td>USA</td>\n",
       "      <td>...</td>\n",
       "      <td>NaN</td>\n",
       "      <td>NaN</td>\n",
       "      <td>NaN</td>\n",
       "      <td>NaN</td>\n",
       "      <td>450000.0</td>\n",
       "      <td>796259.0</td>\n",
       "      <td>56.514291</td>\n",
       "      <td>[{\"adm2_code\":31225,\"adm2_name\":\"Burleson\"},{\"...</td>\n",
       "      <td>2003-07-01</td>\n",
       "      <td>2023-09-25</td>\n",
       "    </tr>\n",
       "  </tbody>\n",
       "</table>\n",
       "<p>5 rows × 46 columns</p>\n",
       "</div>"
      ],
      "text/plain": [
       "          DisNo. Historic Classification Key Disaster Group Disaster Subgroup  \\\n",
       "0  2000-0021-USA       No    nat-met-sto-tor        Natural    Meteorological   \n",
       "1  2000-0067-USA       No    nat-met-sto-tor        Natural    Meteorological   \n",
       "2  2000-0080-USA       No    nat-hyd-flo-riv        Natural      Hydrological   \n",
       "3  2000-0128-USA       No    nat-cli-wil-for        Natural    Climatological   \n",
       "4  2000-0175-USA       No    nat-met-sto-tor        Natural    Meteorological   \n",
       "\n",
       "  Disaster Type Disaster Subtype External IDs Event Name  ISO  ...  \\\n",
       "0         Storm          Tornado          NaN        NaN  USA  ...   \n",
       "1         Storm          Tornado          NaN        NaN  USA  ...   \n",
       "2         Flood   Riverine flood          NaN        NaN  USA  ...   \n",
       "3      Wildfire      Forest fire          NaN        NaN  USA  ...   \n",
       "4         Storm          Tornado          NaN        NaN  USA  ...   \n",
       "\n",
       "  Reconstruction Costs ('000 US$) Reconstruction Costs, Adjusted ('000 US$)  \\\n",
       "0                             NaN                                       NaN   \n",
       "1                             NaN                                       NaN   \n",
       "2                             NaN                                       NaN   \n",
       "3                             NaN                                       NaN   \n",
       "4                             NaN                                       NaN   \n",
       "\n",
       "  Insured Damage ('000 US$) Insured Damage, Adjusted ('000 US$)  \\\n",
       "0                  200500.0                            354778.0   \n",
       "1                       NaN                                 NaN   \n",
       "2                       NaN                                 NaN   \n",
       "3                       NaN                                 NaN   \n",
       "4                       NaN                                 NaN   \n",
       "\n",
       "  Total Damage ('000 US$) Total Damage, Adjusted ('000 US$)        CPI  \\\n",
       "0                210000.0                          371587.0  56.514291   \n",
       "1                     NaN                               NaN  56.514291   \n",
       "2                     NaN                               NaN  56.514291   \n",
       "3                     NaN                               NaN  56.514291   \n",
       "4                450000.0                          796259.0  56.514291   \n",
       "\n",
       "                                         Admin Units  Entry Date  Last Update  \n",
       "0  [{\"adm2_code\":29698,\"adm2_name\":\"Crittenden\"},...  2003-07-01   2023-09-25  \n",
       "1  [{\"adm2_code\":28696,\"adm2_name\":\"Bullock\"},{\"a...  2005-04-24   2023-09-25  \n",
       "2  [{\"adm1_code\":3231,\"adm1_name\":\"Kentucky\"},{\"a...  2005-09-16   2023-09-25  \n",
       "3  [{\"adm2_code\":28998,\"adm2_name\":\"Alachua\"},{\"a...  2003-07-01   2023-09-25  \n",
       "4  [{\"adm2_code\":31225,\"adm2_name\":\"Burleson\"},{\"...  2003-07-01   2023-09-25  \n",
       "\n",
       "[5 rows x 46 columns]"
      ]
     },
     "execution_count": 3,
     "metadata": {},
     "output_type": "execute_result"
    }
   ],
   "source": [
    "df.head()"
   ]
  },
  {
   "cell_type": "code",
   "execution_count": 4,
   "id": "db380402",
   "metadata": {
    "scrolled": true
   },
   "outputs": [
    {
     "name": "stdout",
     "output_type": "stream",
     "text": [
      "DisNo.                                         0.000000\n",
      "Historic                                       0.000000\n",
      "Classification Key                             0.000000\n",
      "Disaster Group                                 0.000000\n",
      "Disaster Subgroup                              0.000000\n",
      "Disaster Type                                  0.000000\n",
      "Disaster Subtype                               0.000000\n",
      "External IDs                                  95.114007\n",
      "Event Name                                    83.061889\n",
      "ISO                                            0.000000\n",
      "Country                                        0.000000\n",
      "Subregion                                      0.000000\n",
      "Region                                         0.000000\n",
      "Location                                       0.162866\n",
      "Origin                                        78.013029\n",
      "Associated Types                              51.954397\n",
      "OFDA/BHA Response                              0.000000\n",
      "Appeal                                         0.000000\n",
      "Declaration                                    0.000000\n",
      "AID Contribution ('000 US$)                  100.000000\n",
      "Magnitude                                     66.775244\n",
      "Magnitude Scale                                0.651466\n",
      "Latitude                                      90.065147\n",
      "Longitude                                     90.065147\n",
      "River Basin                                   92.182410\n",
      "Start Year                                     0.000000\n",
      "Start Month                                    0.000000\n",
      "Start Day                                      5.374593\n",
      "End Year                                       0.000000\n",
      "End Month                                      0.488599\n",
      "End Day                                        5.048860\n",
      "Total Deaths                                  23.778502\n",
      "No. Injured                                   69.055375\n",
      "No. Affected                                  58.469055\n",
      "No. Homeless                                  84.201954\n",
      "Total Affected                                37.296417\n",
      "Reconstruction Costs ('000 US$)              100.000000\n",
      "Reconstruction Costs, Adjusted ('000 US$)    100.000000\n",
      "Insured Damage ('000 US$)                     59.609121\n",
      "Insured Damage, Adjusted ('000 US$)           60.423453\n",
      "Total Damage ('000 US$)                       23.941368\n",
      "Total Damage, Adjusted ('000 US$)             26.710098\n",
      "CPI                                            3.745928\n",
      "Admin Units                                    7.166124\n",
      "Entry Date                                     0.000000\n",
      "Last Update                                    0.000000\n",
      "dtype: float64\n"
     ]
    }
   ],
   "source": [
    "missing_percentage = (df.isnull().sum()/len(df))*100\n",
    "\n",
    "print(missing_percentage)"
   ]
  },
  {
   "cell_type": "code",
   "execution_count": 5,
   "id": "641a7fcd",
   "metadata": {
    "scrolled": true
   },
   "outputs": [],
   "source": [
    "#Dropping columns with more than 85% missing values\n",
    "columns_to_be_dropped = [\n",
    "                        \"External IDs\", \"AID Contribution ('000 US$)\", \"Latitude\", \"Longitude\", \"River Basin\",\n",
    "                        \"Reconstruction Costs ('000 US$)\", \"Reconstruction Costs, Adjusted ('000 US$)\", \n",
    "                        \"Admin Units\"\n",
    "                        ]\n",
    "df = df.drop(columns=columns_to_be_dropped)"
   ]
  },
  {
   "cell_type": "code",
   "execution_count": 7,
   "id": "457e1daa",
   "metadata": {},
   "outputs": [],
   "source": [
    "#Lets make a copy of the dataframe and clean column headers for loading to database purposes\n",
    "df_db = df.copy()"
   ]
  },
  {
   "cell_type": "code",
   "execution_count": 8,
   "id": "1fa9e979",
   "metadata": {
    "scrolled": true
   },
   "outputs": [
    {
     "data": {
      "text/plain": [
       "['disaster_number',\n",
       " 'historic',\n",
       " 'classification_key',\n",
       " 'disaster_group',\n",
       " 'disaster_subgroup',\n",
       " 'disaster_type',\n",
       " 'disaster_subtype',\n",
       " 'event_name',\n",
       " 'iso_code',\n",
       " 'country',\n",
       " 'subregion',\n",
       " 'region',\n",
       " 'location',\n",
       " 'origin',\n",
       " 'associated_types',\n",
       " 'ofda_bha_response',\n",
       " 'appeal',\n",
       " 'declaration',\n",
       " 'magnitude',\n",
       " 'magnitude_scale',\n",
       " 'start_year',\n",
       " 'start_month',\n",
       " 'start_day',\n",
       " 'end_year',\n",
       " 'end_month',\n",
       " 'end_day',\n",
       " 'total_deaths',\n",
       " 'num_injured',\n",
       " 'num_affected',\n",
       " 'num_homeless',\n",
       " 'total_affected',\n",
       " 'insured_damage_000s_usd',\n",
       " 'insured_damage_adjusted_000s_usd',\n",
       " 'total_damage_000s_usd',\n",
       " 'total_damage_adjusted_000s_usd',\n",
       " 'cpi',\n",
       " 'entry_date',\n",
       " 'last_update']"
      ]
     },
     "execution_count": 8,
     "metadata": {},
     "output_type": "execute_result"
    }
   ],
   "source": [
    "#Rename columns to make it suitable for database use\n",
    "rename_columns = {\n",
    "    'DisNo.': 'disaster_number',\n",
    "    'Historic': 'historic',\n",
    "    'Classification Key': 'classification_key',\n",
    "    'Disaster Group': 'disaster_group',\n",
    "    'Disaster Subgroup': 'disaster_subgroup',\n",
    "    'Disaster Type': 'disaster_type',\n",
    "    'Disaster Subtype': 'disaster_subtype',\n",
    "    'Event Name': 'event_name',\n",
    "    'ISO': 'iso_code',\n",
    "    'Country': 'country',\n",
    "    'Subregion': 'subregion',\n",
    "    'Region': 'region',\n",
    "    'Location': 'location',\n",
    "    'Origin': 'origin',\n",
    "    'Associated Types': 'associated_types',\n",
    "    'OFDA/BHA Response': 'ofda_bha_response',\n",
    "    'Appeal': 'appeal',\n",
    "    'Declaration': 'declaration',\n",
    "    'Magnitude': 'magnitude',\n",
    "    'Magnitude Scale': 'magnitude_scale',\n",
    "    'Start Year': 'start_year',\n",
    "    'Start Month': 'start_month',\n",
    "    'Start Day': 'start_day',\n",
    "    'End Year': 'end_year',\n",
    "    'End Month': 'end_month',\n",
    "    'End Day': 'end_day',\n",
    "    'Total Deaths': 'total_deaths',\n",
    "    'No. Injured': 'num_injured',\n",
    "    'No. Affected': 'num_affected',\n",
    "    'No. Homeless': 'num_homeless',\n",
    "    'Total Affected': 'total_affected',\n",
    "    \"Insured Damage ('000 US$)\": 'insured_damage_000s_usd',\n",
    "    \"Insured Damage, Adjusted ('000 US$)\": 'insured_damage_adjusted_000s_usd',\n",
    "    \"Total Damage ('000 US$)\": 'total_damage_000s_usd',\n",
    "    \"Total Damage, Adjusted ('000 US$)\": 'total_damage_adjusted_000s_usd',\n",
    "    'CPI': 'cpi',\n",
    "    'Entry Date': 'entry_date',\n",
    "    'Last Update': 'last_update'\n",
    "}\n",
    "\n",
    "df_db.rename(columns=rename_columns, inplace=True)\n",
    "\n",
    "df_db.columns.to_list()"
   ]
  },
  {
   "cell_type": "code",
   "execution_count": 9,
   "id": "53ad79ea",
   "metadata": {
    "scrolled": true
   },
   "outputs": [
    {
     "name": "stdout",
     "output_type": "stream",
     "text": [
      "disaster_number                      0.000000\n",
      "historic                             0.000000\n",
      "classification_key                   0.000000\n",
      "disaster_group                       0.000000\n",
      "disaster_subgroup                    0.000000\n",
      "disaster_type                        0.000000\n",
      "disaster_subtype                     0.000000\n",
      "event_name                          83.061889\n",
      "iso_code                             0.000000\n",
      "country                              0.000000\n",
      "subregion                            0.000000\n",
      "region                               0.000000\n",
      "location                             0.162866\n",
      "origin                              78.013029\n",
      "associated_types                    51.954397\n",
      "ofda_bha_response                    0.000000\n",
      "appeal                               0.000000\n",
      "declaration                          0.000000\n",
      "magnitude                           66.775244\n",
      "magnitude_scale                      0.651466\n",
      "start_year                           0.000000\n",
      "start_month                          0.000000\n",
      "start_day                            5.374593\n",
      "end_year                             0.000000\n",
      "end_month                            0.488599\n",
      "end_day                              5.048860\n",
      "total_deaths                        23.778502\n",
      "num_injured                         69.055375\n",
      "num_affected                        58.469055\n",
      "num_homeless                        84.201954\n",
      "total_affected                      37.296417\n",
      "insured_damage_000s_usd             59.609121\n",
      "insured_damage_adjusted_000s_usd    60.423453\n",
      "total_damage_000s_usd               23.941368\n",
      "total_damage_adjusted_000s_usd      26.710098\n",
      "cpi                                  3.745928\n",
      "entry_date                           0.000000\n",
      "last_update                          0.000000\n",
      "dtype: float64\n"
     ]
    }
   ],
   "source": [
    "missing_percentage = (df_db.isnull().sum()/len(df_db))*100\n",
    "\n",
    "print(missing_percentage)"
   ]
  },
  {
   "cell_type": "code",
   "execution_count": 10,
   "id": "473ef20d",
   "metadata": {},
   "outputs": [],
   "source": [
    "#Let us clean date fields and fill missing values\n",
    "\n",
    "# Fill any remaining missing start_day values with 1\n",
    "df_db['start_day'] = df_db['start_day'].fillna(1)\n",
    "\n",
    "# Fill missing values for 'end_month' with the corresponding 'start_month'\n",
    "df_db['end_day'] = df_db['end_day'].fillna(df_db['start_day'])\n",
    "df_db['end_day'] = df_db['end_day'].fillna(1)\n",
    "\n",
    "# Fill missing values for 'end_month' with the corresponding 'start_month'\n",
    "df_db['end_month'] = df_db['end_month'].fillna(df_db['start_month'])"
   ]
  },
  {
   "cell_type": "code",
   "execution_count": 11,
   "id": "42192e61",
   "metadata": {
    "scrolled": true
   },
   "outputs": [
    {
     "data": {
      "text/plain": [
       "start_day    0\n",
       "end_day      0\n",
       "end_month    0\n",
       "dtype: int64"
      ]
     },
     "execution_count": 11,
     "metadata": {},
     "output_type": "execute_result"
    }
   ],
   "source": [
    "df_db[['start_day', 'end_day','end_month']].isnull().sum()"
   ]
  },
  {
   "cell_type": "code",
   "execution_count": 12,
   "id": "18ab69c7",
   "metadata": {
    "scrolled": false
   },
   "outputs": [
    {
     "name": "stdout",
     "output_type": "stream",
     "text": [
      "start_year     int64\n",
      "start_month    int64\n",
      "start_day      int64\n",
      "dtype: object\n",
      "end_year     int64\n",
      "end_month    int64\n",
      "end_day      int64\n",
      "dtype: object\n"
     ]
    }
   ],
   "source": [
    "# Ensure no non-integer values\n",
    "df_db[['start_year', 'start_month', 'start_day']] = df_db[['start_year', 'start_month', 'start_day']].astype(int)\n",
    "df_db[['end_year', 'end_month', 'end_day']] = df_db[['end_year', 'end_month', 'end_day']].astype(int)\n",
    "\n",
    "# Confirm the data types\n",
    "print(df_db[['start_year', 'start_month', 'start_day']].dtypes)\n",
    "print(df_db[['end_year', 'end_month', 'end_day']].dtypes)"
   ]
  },
  {
   "cell_type": "code",
   "execution_count": 13,
   "id": "b5327f87",
   "metadata": {
    "scrolled": true
   },
   "outputs": [
    {
     "name": "stdout",
     "output_type": "stream",
     "text": [
      "start_year     0\n",
      "start_month    0\n",
      "start_day      0\n",
      "end_year       0\n",
      "end_month      0\n",
      "end_day        0\n",
      "dtype: int64\n"
     ]
    }
   ],
   "source": [
    "# Ensure no unexpected nulls or invalid values\n",
    "print(df_db[['start_year', 'start_month', 'start_day', 'end_year', 'end_month', 'end_day']].isna().sum())"
   ]
  },
  {
   "cell_type": "code",
   "execution_count": 14,
   "id": "1b914c21",
   "metadata": {},
   "outputs": [],
   "source": [
    "# Create a new column to store the combined date as a string\n",
    "df_db['start_date_str'] = df_db['start_year'].astype(str) + '-' + \\\n",
    "                          df_db['start_month'].astype(str).str.zfill(2) + '-' + \\\n",
    "                          df_db['start_day'].astype(str).str.zfill(2)\n",
    "\n",
    "df_db['end_date_str'] = df_db['end_year'].astype(str) + '-' + \\\n",
    "                        df_db['end_month'].astype(str).str.zfill(2) + '-' + \\\n",
    "                        df_db['end_day'].astype(str).str.zfill(2)"
   ]
  },
  {
   "cell_type": "code",
   "execution_count": 15,
   "id": "47d35c66",
   "metadata": {},
   "outputs": [],
   "source": [
    "# Convert the string to a datetime field\n",
    "df_db['start_date'] = pd.to_datetime(df_db['start_date_str'], errors='coerce')\n",
    "df_db['end_date'] = pd.to_datetime(df_db['end_date_str'], errors='coerce')"
   ]
  },
  {
   "cell_type": "code",
   "execution_count": 16,
   "id": "af3be730",
   "metadata": {},
   "outputs": [],
   "source": [
    "# Drop the temporary string columns\n",
    "df_db.drop(['start_date_str', 'end_date_str'], axis=1, inplace=True)"
   ]
  },
  {
   "cell_type": "code",
   "execution_count": 17,
   "id": "b024136f",
   "metadata": {},
   "outputs": [],
   "source": [
    "#Create a field days_lasted which measures total #days a disaster lasted \n",
    "df_db['days_lasted'] = (df_db['end_date'] - df_db['start_date']).dt.days"
   ]
  },
  {
   "cell_type": "code",
   "execution_count": 28,
   "id": "c3172067",
   "metadata": {},
   "outputs": [],
   "source": [
    "#Create a reference list of U.S. states and global provinces\n",
    "us_states = [\n",
    "    \"Alabama\", \"Alaska\", \"Arizona\", \"Arkansas\", \"California\", \"Colorado\", \"Connecticut\", \"Delaware\", \n",
    "    \"Florida\", \"Georgia\", \"Hawaii\", \"Idaho\", \"Illinois\", \"Indiana\", \"Iowa\", \"Kansas\", \"Kentucky\", \n",
    "    \"Louisiana\", \"Maine\", \"Maryland\", \"Massachusetts\", \"Michigan\", \"Minnesota\", \"Mississippi\", \n",
    "    \"Missouri\", \"Montana\", \"Nebraska\", \"Nevada\", \"New Hampshire\", \"New Jersey\", \"New Mexico\", \n",
    "    \"New York\", \"North Carolina\", \"North Dakota\", \"Ohio\", \"Oklahoma\", \"Oregon\", \"Pennsylvania\", \n",
    "    \"Rhode Island\", \"South Carolina\", \"South Dakota\", \"Tennessee\", \"Texas\", \"Utah\", \"Vermont\", \n",
    "    \"Virginia\", \"Washington province\", \"West Virginia\", \"Wisconsin\", \"Wyoming\"\n",
    "]\n"
   ]
  },
  {
   "cell_type": "code",
   "execution_count": 29,
   "id": "22de6e7b",
   "metadata": {},
   "outputs": [],
   "source": [
    "# Function to extract states from location column\n",
    "def extract_states(location):\n",
    "    if isinstance(location, str):\n",
    "        extracted_states = [state for state in us_states if state in location]\n",
    "        return ', '.join(extracted_states) if extracted_states else None\n",
    "    return None"
   ]
  },
  {
   "cell_type": "code",
   "execution_count": 22,
   "id": "39802896",
   "metadata": {},
   "outputs": [],
   "source": [
    "# Apply function to location column\n",
    "df_db['extracted_states'] = df_db['location'].apply(extract_states)"
   ]
  },
  {
   "cell_type": "code",
   "execution_count": 147,
   "id": "ad5eb060",
   "metadata": {
    "scrolled": false
   },
   "outputs": [
    {
     "data": {
      "text/plain": [
       "0                                  Kentucky\n",
       "1    Alabama, Arkansas, Georgia, Washington\n",
       "2                            Kentucky, Ohio\n",
       "3                                   Florida\n",
       "4                                     Texas\n",
       "5                                  Missouri\n",
       "6                                New Mexico\n",
       "7                                  Oklahoma\n",
       "8                                   Florida\n",
       "9                                     Texas\n",
       "Name: extracted_states, dtype: object"
      ]
     },
     "execution_count": 147,
     "metadata": {},
     "output_type": "execute_result"
    }
   ],
   "source": [
    "df_db['extracted_states'].head(10)"
   ]
  },
  {
   "cell_type": "code",
   "execution_count": 97,
   "id": "67ec69d3",
   "metadata": {},
   "outputs": [],
   "source": [
    "# Create a DataFrame with the correct structure\n",
    "locations_data = pd.DataFrame({\n",
    "    \"country\": [\"USA\"] * len(us_states),\n",
    "    \"iso_code\": [\"US\"] * len(us_states),\n",
    "    \"region\": [\"Americas\"] * len(us_states),\n",
    "    \"subregion\": [\"North America\"] * len(us_states),\n",
    "    \"state_province\": us_states\n",
    "})"
   ]
  },
  {
   "cell_type": "code",
   "execution_count": 148,
   "id": "446fe72e",
   "metadata": {},
   "outputs": [
    {
     "data": {
      "text/html": [
       "<div>\n",
       "<style scoped>\n",
       "    .dataframe tbody tr th:only-of-type {\n",
       "        vertical-align: middle;\n",
       "    }\n",
       "\n",
       "    .dataframe tbody tr th {\n",
       "        vertical-align: top;\n",
       "    }\n",
       "\n",
       "    .dataframe thead th {\n",
       "        text-align: right;\n",
       "    }\n",
       "</style>\n",
       "<table border=\"1\" class=\"dataframe\">\n",
       "  <thead>\n",
       "    <tr style=\"text-align: right;\">\n",
       "      <th></th>\n",
       "      <th>country</th>\n",
       "      <th>iso_code</th>\n",
       "      <th>region</th>\n",
       "      <th>subregion</th>\n",
       "      <th>state_province</th>\n",
       "    </tr>\n",
       "  </thead>\n",
       "  <tbody>\n",
       "    <tr>\n",
       "      <th>0</th>\n",
       "      <td>USA</td>\n",
       "      <td>US</td>\n",
       "      <td>Americas</td>\n",
       "      <td>North America</td>\n",
       "      <td>Alabama</td>\n",
       "    </tr>\n",
       "    <tr>\n",
       "      <th>1</th>\n",
       "      <td>USA</td>\n",
       "      <td>US</td>\n",
       "      <td>Americas</td>\n",
       "      <td>North America</td>\n",
       "      <td>Alaska</td>\n",
       "    </tr>\n",
       "    <tr>\n",
       "      <th>2</th>\n",
       "      <td>USA</td>\n",
       "      <td>US</td>\n",
       "      <td>Americas</td>\n",
       "      <td>North America</td>\n",
       "      <td>Arizona</td>\n",
       "    </tr>\n",
       "    <tr>\n",
       "      <th>3</th>\n",
       "      <td>USA</td>\n",
       "      <td>US</td>\n",
       "      <td>Americas</td>\n",
       "      <td>North America</td>\n",
       "      <td>Arkansas</td>\n",
       "    </tr>\n",
       "    <tr>\n",
       "      <th>4</th>\n",
       "      <td>USA</td>\n",
       "      <td>US</td>\n",
       "      <td>Americas</td>\n",
       "      <td>North America</td>\n",
       "      <td>California</td>\n",
       "    </tr>\n",
       "    <tr>\n",
       "      <th>5</th>\n",
       "      <td>USA</td>\n",
       "      <td>US</td>\n",
       "      <td>Americas</td>\n",
       "      <td>North America</td>\n",
       "      <td>Colorado</td>\n",
       "    </tr>\n",
       "    <tr>\n",
       "      <th>6</th>\n",
       "      <td>USA</td>\n",
       "      <td>US</td>\n",
       "      <td>Americas</td>\n",
       "      <td>North America</td>\n",
       "      <td>Connecticut</td>\n",
       "    </tr>\n",
       "    <tr>\n",
       "      <th>7</th>\n",
       "      <td>USA</td>\n",
       "      <td>US</td>\n",
       "      <td>Americas</td>\n",
       "      <td>North America</td>\n",
       "      <td>Delaware</td>\n",
       "    </tr>\n",
       "    <tr>\n",
       "      <th>8</th>\n",
       "      <td>USA</td>\n",
       "      <td>US</td>\n",
       "      <td>Americas</td>\n",
       "      <td>North America</td>\n",
       "      <td>Florida</td>\n",
       "    </tr>\n",
       "    <tr>\n",
       "      <th>9</th>\n",
       "      <td>USA</td>\n",
       "      <td>US</td>\n",
       "      <td>Americas</td>\n",
       "      <td>North America</td>\n",
       "      <td>Georgia</td>\n",
       "    </tr>\n",
       "  </tbody>\n",
       "</table>\n",
       "</div>"
      ],
      "text/plain": [
       "  country iso_code    region      subregion state_province\n",
       "0     USA       US  Americas  North America        Alabama\n",
       "1     USA       US  Americas  North America         Alaska\n",
       "2     USA       US  Americas  North America        Arizona\n",
       "3     USA       US  Americas  North America       Arkansas\n",
       "4     USA       US  Americas  North America     California\n",
       "5     USA       US  Americas  North America       Colorado\n",
       "6     USA       US  Americas  North America    Connecticut\n",
       "7     USA       US  Americas  North America       Delaware\n",
       "8     USA       US  Americas  North America        Florida\n",
       "9     USA       US  Americas  North America        Georgia"
      ]
     },
     "execution_count": 148,
     "metadata": {},
     "output_type": "execute_result"
    }
   ],
   "source": [
    "locations_data.head(10)"
   ]
  },
  {
   "cell_type": "code",
   "execution_count": 127,
   "id": "34d567f6",
   "metadata": {},
   "outputs": [],
   "source": [
    "# Connect to SQLite database\n",
    "import sqlite3\n",
    "\n",
    "conn = sqlite3.connect('disaster_data.db')\n",
    "cursor = conn.cursor()"
   ]
  },
  {
   "cell_type": "code",
   "execution_count": 129,
   "id": "6b4d0a5e",
   "metadata": {
    "scrolled": true
   },
   "outputs": [],
   "source": [
    "# Prepare INSERT statement\n",
    "insert_sql = \"\"\"\n",
    "    INSERT INTO locations (country, iso_code, region, subregion, state_province) \n",
    "    VALUES (?, ?, ?, ?, ?)\n",
    "\"\"\"\n",
    "\n",
    "# Insert rows manually to ensure `location_id` is auto-generated\n",
    "for _, row in locations_data.iterrows():\n",
    "    cursor.execute(insert_sql, (row['country'], row['iso_code'], row['region'], row['subregion'], row['state_province']))\n",
    "\n",
    "# Commit and close connection\n",
    "conn.commit()"
   ]
  },
  {
   "cell_type": "code",
   "execution_count": 143,
   "id": "e9ceb7ea",
   "metadata": {
    "scrolled": true
   },
   "outputs": [
    {
     "name": "stdout",
     "output_type": "stream",
     "text": [
      "(1, 'USA', 'US', 'Americas', 'North America', 'Alabama') \n",
      "\n",
      "(2, 'USA', 'US', 'Americas', 'North America', 'Alaska') \n",
      "\n",
      "(3, 'USA', 'US', 'Americas', 'North America', 'Arizona') \n",
      "\n",
      "(4, 'USA', 'US', 'Americas', 'North America', 'Arkansas') \n",
      "\n",
      "(5, 'USA', 'US', 'Americas', 'North America', 'California') \n",
      "\n",
      "(6, 'USA', 'US', 'Americas', 'North America', 'Colorado') \n",
      "\n",
      "(7, 'USA', 'US', 'Americas', 'North America', 'Connecticut') \n",
      "\n",
      "(8, 'USA', 'US', 'Americas', 'North America', 'Delaware') \n",
      "\n",
      "(9, 'USA', 'US', 'Americas', 'North America', 'Florida') \n",
      "\n",
      "(10, 'USA', 'US', 'Americas', 'North America', 'Georgia') \n",
      "\n"
     ]
    }
   ],
   "source": [
    "cursor.execute(\"SELECT location_id, country, iso_code, region, subregion, state_province FROM locations\")\n",
    "location_row = cursor.fetchmany(10)\n",
    "\n",
    "for row in location_row:\n",
    "    print(row, '\\n')"
   ]
  },
  {
   "cell_type": "code",
   "execution_count": 88,
   "id": "d5161fc2",
   "metadata": {},
   "outputs": [],
   "source": [
    "disasters_data = df_db[['disaster_number','historic','classification_key','disaster_group',\\\n",
    "                        'disaster_subgroup','disaster_type','disaster_subtype','origin',\\\n",
    "                        'associated_types', 'ofda_bha_response', 'appeal', 'declaration',\\\n",
    "                        'magnitude', 'magnitude_scale', 'start_date', 'end_date', 'entry_date',\\\n",
    "                        'last_update'\n",
    "]].copy()"
   ]
  },
  {
   "cell_type": "code",
   "execution_count": 89,
   "id": "a7129020",
   "metadata": {
    "scrolled": true
   },
   "outputs": [],
   "source": [
    "# Convert NaN values to None so SQLite treats them as NULL\n",
    "disasters_data = disasters_data.where(pd.notna(disasters_data), None)"
   ]
  },
  {
   "cell_type": "code",
   "execution_count": 90,
   "id": "3ccbe86e",
   "metadata": {},
   "outputs": [],
   "source": [
    "# Ensure date columns are formatted correctly\n",
    "date_columns = ['start_date', 'end_date', 'entry_date', 'last_update']\n",
    "for col in date_columns:\n",
    "    disasters_data[col] = pd.to_datetime(disasters_data[col], errors='coerce').dt.strftime('%Y-%m-%d')"
   ]
  },
  {
   "cell_type": "code",
   "execution_count": 86,
   "id": "4469916d",
   "metadata": {},
   "outputs": [],
   "source": [
    "# Insert cleaned data into disasters table\n",
    "disasters_data.to_sql(\"disasters\", conn, if_exists=\"append\", index=False)\n",
    "\n",
    "conn.commit()"
   ]
  },
  {
   "cell_type": "code",
   "execution_count": 92,
   "id": "00271885",
   "metadata": {},
   "outputs": [],
   "source": [
    "# Extract disaster-state mappings from df_db\n",
    "disaster_mappings = df_db[['disaster_number', 'extracted_states']].copy()"
   ]
  },
  {
   "cell_type": "code",
   "execution_count": 93,
   "id": "c9d88d85",
   "metadata": {},
   "outputs": [],
   "source": [
    "# Ensure 'extracted_states' is properly split into a list\n",
    "disaster_mappings['extracted_states'] = disaster_mappings['extracted_states']\\\n",
    "                                        .apply(lambda x: x.split(\", \") if isinstance(x, str) else [])"
   ]
  },
  {
   "cell_type": "code",
   "execution_count": 137,
   "id": "d90d737b",
   "metadata": {},
   "outputs": [],
   "source": [
    "# Insert disaster-state mappings into disaster_locations\n",
    "for _, row in disaster_mappings.iterrows():\n",
    "    disaster_number = row['disaster_number']\n",
    "    \n",
    "    for state in row['extracted_states']:\n",
    "        # Get the location_id for the state\n",
    "        cursor.execute(\"SELECT location_id FROM locations WHERE state_province = ?\", (state,))\n",
    "        location_id = cursor.fetchone()\n",
    "        \n",
    "        if location_id:\n",
    "            location_id = location_id[0]  # Extract the ID\n",
    "            cursor.execute(\"\"\"\n",
    "                INSERT INTO disaster_locations (disaster_number, location_id)\n",
    "                VALUES (?, ?)\n",
    "            \"\"\", (disaster_number, location_id))"
   ]
  },
  {
   "cell_type": "code",
   "execution_count": 142,
   "id": "e9361243",
   "metadata": {},
   "outputs": [],
   "source": [
    "conn.commit()"
   ]
  },
  {
   "cell_type": "code",
   "execution_count": 141,
   "id": "51c03b1a",
   "metadata": {
    "scrolled": true
   },
   "outputs": [
    {
     "name": "stdout",
     "output_type": "stream",
     "text": [
      "('2000-0021-USA', 17) \n",
      "\n",
      "('2000-0067-USA', 1) \n",
      "\n",
      "('2000-0067-USA', 4) \n",
      "\n",
      "('2000-0067-USA', 10) \n",
      "\n",
      "('2000-0080-USA', 17) \n",
      "\n",
      "('2000-0080-USA', 35) \n",
      "\n",
      "('2000-0128-USA', 9) \n",
      "\n",
      "('2000-0175-USA', 43) \n",
      "\n",
      "('2000-0232-USA', 25) \n",
      "\n",
      "('2000-0240-USA', 31) \n",
      "\n"
     ]
    }
   ],
   "source": [
    "cursor.execute(\"SELECT * from disaster_locations\")\n",
    "disaster_location_row = cursor.fetchmany(10)\n",
    "\n",
    "for row in disaster_location_row:\n",
    "    print(row, '\\n')"
   ]
  },
  {
   "cell_type": "code",
   "execution_count": 144,
   "id": "01c6750a",
   "metadata": {},
   "outputs": [],
   "source": [
    "# Extract only the impact-related columns\n",
    "disaster_impacts_data = df_db[['disaster_number', 'total_deaths', 'num_injured', 'num_affected', \n",
    "                               'num_homeless', 'total_affected', 'insured_damage_000s_usd', \n",
    "                               'insured_damage_adjusted_000s_usd', 'total_damage_000s_usd', \n",
    "                               'total_damage_adjusted_000s_usd']].copy()"
   ]
  },
  {
   "cell_type": "code",
   "execution_count": 160,
   "id": "fb2095ce",
   "metadata": {},
   "outputs": [],
   "source": [
    "# Convert NaN to None so SQLite treats them as NULL\n",
    "disaster_impacts_data = disaster_impacts_data.where(pd.notna(disaster_impacts_data), None)"
   ]
  },
  {
   "cell_type": "code",
   "execution_count": 164,
   "id": "664becdd",
   "metadata": {
    "scrolled": true
   },
   "outputs": [],
   "source": [
    "# Insert statement\n",
    "insert_sql = \"\"\"\n",
    "    INSERT INTO disaster_impacts (disaster_number, total_deaths, num_injured, num_affected, num_homeless, \n",
    "                                  total_affected, insured_damage_000s_usd, insured_damage_adjusted_000s_usd, \n",
    "                                  total_damage_000s_usd, total_damage_adjusted_000s_usd) \n",
    "    VALUES (?, ?, ?, ?, ?, ?, ?, ?, ?, ?)\n",
    "\"\"\"\n",
    "\n",
    "# Insert each row manually\n",
    "for _, row in disaster_impacts_data.iterrows():\n",
    "    cursor.execute(insert_sql, (row['disaster_number'], row['total_deaths'], row['num_injured'], row['num_affected'],\\\n",
    "                               row['num_homeless'], row['total_affected'], row['insured_damage_000s_usd'],\\\n",
    "                                row['insured_damage_adjusted_000s_usd'], row['total_damage_000s_usd'],\\\n",
    "                               row['total_damage_adjusted_000s_usd']))\n",
    "\n",
    "# Commit and close connection\n",
    "conn.commit()"
   ]
  },
  {
   "cell_type": "code",
   "execution_count": 171,
   "id": "791d9e57",
   "metadata": {},
   "outputs": [],
   "source": [
    "df_db['start_year'] = pd.to_datetime(df_db['start_date']).dt.year\n",
    "df_db['start_month'] = pd.to_datetime(df_db['start_date']).dt.month"
   ]
  },
  {
   "cell_type": "code",
   "execution_count": 172,
   "id": "f468c0b7",
   "metadata": {},
   "outputs": [],
   "source": [
    "# Define thresholds for severity levels\n",
    "def severity_category(row):\n",
    "    if row['total_deaths'] >= 100 or row['total_damage_000s_usd'] >= 1_000_000_000:\n",
    "        return 'High'\n",
    "    elif row['total_deaths'] >= 10 or row['total_damage_000s_usd'] >= 100_000_000:\n",
    "        return 'Medium'\n",
    "    else:\n",
    "        return 'Low'\n",
    "    \n",
    "df_db['disaster_severity'] = df_db.apply(severity_category, axis=1)"
   ]
  },
  {
   "cell_type": "code",
   "execution_count": 173,
   "id": "449dffc9",
   "metadata": {},
   "outputs": [
    {
     "data": {
      "text/plain": [
       "0       Low\n",
       "1    Medium\n",
       "2       Low\n",
       "3       Low\n",
       "4       Low\n",
       "Name: disaster_severity, dtype: object"
      ]
     },
     "execution_count": 173,
     "metadata": {},
     "output_type": "execute_result"
    }
   ],
   "source": [
    "df_db['disaster_severity'].head()"
   ]
  },
  {
   "cell_type": "code",
   "execution_count": null,
   "id": "7f17b6ef",
   "metadata": {},
   "outputs": [],
   "source": []
  }
 ],
 "metadata": {
  "kernelspec": {
   "display_name": "Python 3",
   "language": "python",
   "name": "python3"
  },
  "language_info": {
   "codemirror_mode": {
    "name": "ipython",
    "version": 3
   },
   "file_extension": ".py",
   "mimetype": "text/x-python",
   "name": "python",
   "nbconvert_exporter": "python",
   "pygments_lexer": "ipython3",
   "version": "3.8.8"
  }
 },
 "nbformat": 4,
 "nbformat_minor": 5
}
